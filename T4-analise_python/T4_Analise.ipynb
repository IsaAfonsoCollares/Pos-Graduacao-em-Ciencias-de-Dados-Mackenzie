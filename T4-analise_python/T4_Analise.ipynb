{
  "nbformat": 4,
  "nbformat_minor": 0,
  "metadata": {
    "colab": {
      "provenance": [],
      "authorship_tag": "ABX9TyMX15flX4vwCjAE2XRbzSDN",
      "include_colab_link": true
    },
    "kernelspec": {
      "name": "python3",
      "display_name": "Python 3"
    },
    "language_info": {
      "name": "python"
    }
  },
  "cells": [
    {
      "cell_type": "markdown",
      "metadata": {
        "id": "view-in-github",
        "colab_type": "text"
      },
      "source": [
        "<a href=\"https://colab.research.google.com/github/IsaAfonsoCollares/Pos-Graduacao-em-Ciencias-de-Dados-Mackenzie/blob/main/T4-analise_python/T4_Analise.ipynb\" target=\"_parent\"><img src=\"https://colab.research.google.com/assets/colab-badge.svg\" alt=\"Open In Colab\"/></a>"
      ]
    },
    {
      "cell_type": "code",
      "source": [
        "from google.colab import drive\n",
        "drive.mount('/content/drive')"
      ],
      "metadata": {
        "colab": {
          "base_uri": "https://localhost:8080/"
        },
        "id": "0q2hfkCzaLTH",
        "outputId": "42d010ca-576e-45f5-acea-9e303ddc0e93"
      },
      "execution_count": null,
      "outputs": [
        {
          "output_type": "stream",
          "name": "stdout",
          "text": [
            "Drive already mounted at /content/drive; to attempt to forcibly remount, call drive.mount(\"/content/drive\", force_remount=True).\n"
          ]
        }
      ]
    },
    {
      "cell_type": "markdown",
      "source": [
        "# Objetivo\n",
        "Faça uma Análise Exploratória dos Dados (EDA) com dados de seu interesse, empregando o Python e o que você aprendeu até aqui. Os sites apresentam diversos dados sobre as diferenças de desenvolvimento dos países e a desigualdade. Foque em perguntas que são do seu interesse sobre os dados.  \n",
        "\n",
        "Na sua análise você deve responder ao menos quatro perguntas relevantes sobre os dados, incluir na sua análise seleções e visualizações dos dados e um texto de conclusão a cada pergunta.  "
      ],
      "metadata": {
        "id": "RBDgxOGuwo3r"
      }
    },
    {
      "cell_type": "markdown",
      "source": [
        "# Base de dados\n",
        "\n",
        "Para esta análise serão utilizadas as bases de dados:  \n",
        "  \n",
        "Gender ratio of mean years in school (women % men, 25 to 34 years) dados dísponiveis em Gapminder, inclui educação primária, secundária e terciária.   \n",
        "  \n",
        "OECD (2022), Gender wage gap (indicator). doi: 10.1787/7cee77aa-en (Accessed on 04 December 2022).\n",
        "\n"
      ],
      "metadata": {
        "id": "N64blL7BLR_f"
      }
    },
    {
      "cell_type": "code",
      "source": [
        "import pandas as pd\n",
        "from matplotlib import pyplot as plt\n",
        "\n",
        "proporcao_estudo = pd.read_csv(\"mean_years_in_school.csv\")\n",
        "wage_gap = pd.read_csv(\"Gender_wage_gap.csv\")\n",
        "\n",
        "wage_gap\n"
      ],
      "metadata": {
        "id": "mo08rWo2ZDSI",
        "colab": {
          "base_uri": "https://localhost:8080/",
          "height": 424
        },
        "outputId": "b27c6d3e-ce76-455f-8adc-f52e885fe5eb"
      },
      "execution_count": null,
      "outputs": [
        {
          "output_type": "execute_result",
          "data": {
            "text/plain": [
              "     LOCATION INDICATOR   SUBJECT MEASURE FREQUENCY  TIME      Value  \\\n",
              "0         AUS   WAGEGAP  EMPLOYEE      PC         A  1975  21.582734   \n",
              "1         AUS   WAGEGAP  EMPLOYEE      PC         A  1976  20.754717   \n",
              "2         AUS   WAGEGAP  EMPLOYEE      PC         A  1977  18.390805   \n",
              "3         AUS   WAGEGAP  EMPLOYEE      PC         A  1978  19.791667   \n",
              "4         AUS   WAGEGAP  EMPLOYEE      PC         A  1979  20.000000   \n",
              "...       ...       ...       ...     ...       ...   ...        ...   \n",
              "1239      BRA   WAGEGAP  EMPLOYEE      PC         A  2017  13.333333   \n",
              "1240      BRA   WAGEGAP  EMPLOYEE      PC         A  2018  10.666667   \n",
              "1241      BRA   WAGEGAP  EMPLOYEE      PC         A  2019   6.666667   \n",
              "1242      BRA   WAGEGAP  EMPLOYEE      PC         A  2020   6.250000   \n",
              "1243      BRA   WAGEGAP  EMPLOYEE      PC         A  2021   9.090909   \n",
              "\n",
              "     Flag Codes  \n",
              "0           NaN  \n",
              "1           NaN  \n",
              "2           NaN  \n",
              "3           NaN  \n",
              "4           NaN  \n",
              "...         ...  \n",
              "1239        NaN  \n",
              "1240        NaN  \n",
              "1241        NaN  \n",
              "1242        NaN  \n",
              "1243        NaN  \n",
              "\n",
              "[1244 rows x 8 columns]"
            ],
            "text/html": [
              "\n",
              "  <div id=\"df-d152b51e-8fe9-4e59-baad-b6050c8a37a7\">\n",
              "    <div class=\"colab-df-container\">\n",
              "      <div>\n",
              "<style scoped>\n",
              "    .dataframe tbody tr th:only-of-type {\n",
              "        vertical-align: middle;\n",
              "    }\n",
              "\n",
              "    .dataframe tbody tr th {\n",
              "        vertical-align: top;\n",
              "    }\n",
              "\n",
              "    .dataframe thead th {\n",
              "        text-align: right;\n",
              "    }\n",
              "</style>\n",
              "<table border=\"1\" class=\"dataframe\">\n",
              "  <thead>\n",
              "    <tr style=\"text-align: right;\">\n",
              "      <th></th>\n",
              "      <th>LOCATION</th>\n",
              "      <th>INDICATOR</th>\n",
              "      <th>SUBJECT</th>\n",
              "      <th>MEASURE</th>\n",
              "      <th>FREQUENCY</th>\n",
              "      <th>TIME</th>\n",
              "      <th>Value</th>\n",
              "      <th>Flag Codes</th>\n",
              "    </tr>\n",
              "  </thead>\n",
              "  <tbody>\n",
              "    <tr>\n",
              "      <th>0</th>\n",
              "      <td>AUS</td>\n",
              "      <td>WAGEGAP</td>\n",
              "      <td>EMPLOYEE</td>\n",
              "      <td>PC</td>\n",
              "      <td>A</td>\n",
              "      <td>1975</td>\n",
              "      <td>21.582734</td>\n",
              "      <td>NaN</td>\n",
              "    </tr>\n",
              "    <tr>\n",
              "      <th>1</th>\n",
              "      <td>AUS</td>\n",
              "      <td>WAGEGAP</td>\n",
              "      <td>EMPLOYEE</td>\n",
              "      <td>PC</td>\n",
              "      <td>A</td>\n",
              "      <td>1976</td>\n",
              "      <td>20.754717</td>\n",
              "      <td>NaN</td>\n",
              "    </tr>\n",
              "    <tr>\n",
              "      <th>2</th>\n",
              "      <td>AUS</td>\n",
              "      <td>WAGEGAP</td>\n",
              "      <td>EMPLOYEE</td>\n",
              "      <td>PC</td>\n",
              "      <td>A</td>\n",
              "      <td>1977</td>\n",
              "      <td>18.390805</td>\n",
              "      <td>NaN</td>\n",
              "    </tr>\n",
              "    <tr>\n",
              "      <th>3</th>\n",
              "      <td>AUS</td>\n",
              "      <td>WAGEGAP</td>\n",
              "      <td>EMPLOYEE</td>\n",
              "      <td>PC</td>\n",
              "      <td>A</td>\n",
              "      <td>1978</td>\n",
              "      <td>19.791667</td>\n",
              "      <td>NaN</td>\n",
              "    </tr>\n",
              "    <tr>\n",
              "      <th>4</th>\n",
              "      <td>AUS</td>\n",
              "      <td>WAGEGAP</td>\n",
              "      <td>EMPLOYEE</td>\n",
              "      <td>PC</td>\n",
              "      <td>A</td>\n",
              "      <td>1979</td>\n",
              "      <td>20.000000</td>\n",
              "      <td>NaN</td>\n",
              "    </tr>\n",
              "    <tr>\n",
              "      <th>...</th>\n",
              "      <td>...</td>\n",
              "      <td>...</td>\n",
              "      <td>...</td>\n",
              "      <td>...</td>\n",
              "      <td>...</td>\n",
              "      <td>...</td>\n",
              "      <td>...</td>\n",
              "      <td>...</td>\n",
              "    </tr>\n",
              "    <tr>\n",
              "      <th>1239</th>\n",
              "      <td>BRA</td>\n",
              "      <td>WAGEGAP</td>\n",
              "      <td>EMPLOYEE</td>\n",
              "      <td>PC</td>\n",
              "      <td>A</td>\n",
              "      <td>2017</td>\n",
              "      <td>13.333333</td>\n",
              "      <td>NaN</td>\n",
              "    </tr>\n",
              "    <tr>\n",
              "      <th>1240</th>\n",
              "      <td>BRA</td>\n",
              "      <td>WAGEGAP</td>\n",
              "      <td>EMPLOYEE</td>\n",
              "      <td>PC</td>\n",
              "      <td>A</td>\n",
              "      <td>2018</td>\n",
              "      <td>10.666667</td>\n",
              "      <td>NaN</td>\n",
              "    </tr>\n",
              "    <tr>\n",
              "      <th>1241</th>\n",
              "      <td>BRA</td>\n",
              "      <td>WAGEGAP</td>\n",
              "      <td>EMPLOYEE</td>\n",
              "      <td>PC</td>\n",
              "      <td>A</td>\n",
              "      <td>2019</td>\n",
              "      <td>6.666667</td>\n",
              "      <td>NaN</td>\n",
              "    </tr>\n",
              "    <tr>\n",
              "      <th>1242</th>\n",
              "      <td>BRA</td>\n",
              "      <td>WAGEGAP</td>\n",
              "      <td>EMPLOYEE</td>\n",
              "      <td>PC</td>\n",
              "      <td>A</td>\n",
              "      <td>2020</td>\n",
              "      <td>6.250000</td>\n",
              "      <td>NaN</td>\n",
              "    </tr>\n",
              "    <tr>\n",
              "      <th>1243</th>\n",
              "      <td>BRA</td>\n",
              "      <td>WAGEGAP</td>\n",
              "      <td>EMPLOYEE</td>\n",
              "      <td>PC</td>\n",
              "      <td>A</td>\n",
              "      <td>2021</td>\n",
              "      <td>9.090909</td>\n",
              "      <td>NaN</td>\n",
              "    </tr>\n",
              "  </tbody>\n",
              "</table>\n",
              "<p>1244 rows × 8 columns</p>\n",
              "</div>\n",
              "      <button class=\"colab-df-convert\" onclick=\"convertToInteractive('df-d152b51e-8fe9-4e59-baad-b6050c8a37a7')\"\n",
              "              title=\"Convert this dataframe to an interactive table.\"\n",
              "              style=\"display:none;\">\n",
              "        \n",
              "  <svg xmlns=\"http://www.w3.org/2000/svg\" height=\"24px\"viewBox=\"0 0 24 24\"\n",
              "       width=\"24px\">\n",
              "    <path d=\"M0 0h24v24H0V0z\" fill=\"none\"/>\n",
              "    <path d=\"M18.56 5.44l.94 2.06.94-2.06 2.06-.94-2.06-.94-.94-2.06-.94 2.06-2.06.94zm-11 1L8.5 8.5l.94-2.06 2.06-.94-2.06-.94L8.5 2.5l-.94 2.06-2.06.94zm10 10l.94 2.06.94-2.06 2.06-.94-2.06-.94-.94-2.06-.94 2.06-2.06.94z\"/><path d=\"M17.41 7.96l-1.37-1.37c-.4-.4-.92-.59-1.43-.59-.52 0-1.04.2-1.43.59L10.3 9.45l-7.72 7.72c-.78.78-.78 2.05 0 2.83L4 21.41c.39.39.9.59 1.41.59.51 0 1.02-.2 1.41-.59l7.78-7.78 2.81-2.81c.8-.78.8-2.07 0-2.86zM5.41 20L4 18.59l7.72-7.72 1.47 1.35L5.41 20z\"/>\n",
              "  </svg>\n",
              "      </button>\n",
              "      \n",
              "  <style>\n",
              "    .colab-df-container {\n",
              "      display:flex;\n",
              "      flex-wrap:wrap;\n",
              "      gap: 12px;\n",
              "    }\n",
              "\n",
              "    .colab-df-convert {\n",
              "      background-color: #E8F0FE;\n",
              "      border: none;\n",
              "      border-radius: 50%;\n",
              "      cursor: pointer;\n",
              "      display: none;\n",
              "      fill: #1967D2;\n",
              "      height: 32px;\n",
              "      padding: 0 0 0 0;\n",
              "      width: 32px;\n",
              "    }\n",
              "\n",
              "    .colab-df-convert:hover {\n",
              "      background-color: #E2EBFA;\n",
              "      box-shadow: 0px 1px 2px rgba(60, 64, 67, 0.3), 0px 1px 3px 1px rgba(60, 64, 67, 0.15);\n",
              "      fill: #174EA6;\n",
              "    }\n",
              "\n",
              "    [theme=dark] .colab-df-convert {\n",
              "      background-color: #3B4455;\n",
              "      fill: #D2E3FC;\n",
              "    }\n",
              "\n",
              "    [theme=dark] .colab-df-convert:hover {\n",
              "      background-color: #434B5C;\n",
              "      box-shadow: 0px 1px 3px 1px rgba(0, 0, 0, 0.15);\n",
              "      filter: drop-shadow(0px 1px 2px rgba(0, 0, 0, 0.3));\n",
              "      fill: #FFFFFF;\n",
              "    }\n",
              "  </style>\n",
              "\n",
              "      <script>\n",
              "        const buttonEl =\n",
              "          document.querySelector('#df-d152b51e-8fe9-4e59-baad-b6050c8a37a7 button.colab-df-convert');\n",
              "        buttonEl.style.display =\n",
              "          google.colab.kernel.accessAllowed ? 'block' : 'none';\n",
              "\n",
              "        async function convertToInteractive(key) {\n",
              "          const element = document.querySelector('#df-d152b51e-8fe9-4e59-baad-b6050c8a37a7');\n",
              "          const dataTable =\n",
              "            await google.colab.kernel.invokeFunction('convertToInteractive',\n",
              "                                                     [key], {});\n",
              "          if (!dataTable) return;\n",
              "\n",
              "          const docLinkHtml = 'Like what you see? Visit the ' +\n",
              "            '<a target=\"_blank\" href=https://colab.research.google.com/notebooks/data_table.ipynb>data table notebook</a>'\n",
              "            + ' to learn more about interactive tables.';\n",
              "          element.innerHTML = '';\n",
              "          dataTable['output_type'] = 'display_data';\n",
              "          await google.colab.output.renderOutput(dataTable, element);\n",
              "          const docLink = document.createElement('div');\n",
              "          docLink.innerHTML = docLinkHtml;\n",
              "          element.appendChild(docLink);\n",
              "        }\n",
              "      </script>\n",
              "    </div>\n",
              "  </div>\n",
              "  "
            ]
          },
          "metadata": {},
          "execution_count": 24
        }
      ]
    },
    {
      "cell_type": "markdown",
      "source": [
        "#Perguntas\n",
        "\n",
        "1) Qual a média mundial da proporção de anos de estudo entre mulheres e homens? "
      ],
      "metadata": {
        "id": "iTr59aEcUYvz"
      }
    },
    {
      "cell_type": "code",
      "source": [
        "proporcao_estudo.columns"
      ],
      "metadata": {
        "colab": {
          "base_uri": "https://localhost:8080/"
        },
        "id": "KVdRSQ-Pc8B5",
        "outputId": "f46e7f58-3300-428b-d409-e6f55670ae6e"
      },
      "execution_count": null,
      "outputs": [
        {
          "output_type": "execute_result",
          "data": {
            "text/plain": [
              "Index(['country', '1969', '1970', '1971', '1972', '1973', '1974', '1975',\n",
              "       '1976', '1977', '1978', '1979', '1980', '1981', '1982', '1983', '1984',\n",
              "       '1985', '1986', '1987', '1988', '1989', '1990', '1991', '1992', '1993',\n",
              "       '1994', '1995', '1996', '1997', '1998', '1999', '2000', '2001', '2002',\n",
              "       '2003', '2004', '2005', '2006', '2007', '2008', '2009', '2010', '2011',\n",
              "       '2012', '2013', '2014'],\n",
              "      dtype='object')"
            ]
          },
          "metadata": {},
          "execution_count": 16
        }
      ]
    },
    {
      "cell_type": "code",
      "execution_count": null,
      "metadata": {
        "id": "kFotJWsnvz4X",
        "colab": {
          "base_uri": "https://localhost:8080/"
        },
        "outputId": "c0c04838-c7ff-4f1b-a435-50ac347587d8"
      },
      "outputs": [
        {
          "output_type": "stream",
          "name": "stdout",
          "text": [
            "A média mundial da proporção de anos de estudo em 2014 era 91.96. O que significa que em média no mundo mulheres estudam 8.04% a menos anos que homens.\n"
          ]
        }
      ],
      "source": [
        "ultimo_ano = proporcao_estudo.columns[-1] #encontrar o último ano com dados\n",
        "#cria uma nova dataframe apenas com os dados do último ano disponível organizando os valores em ordem decrescente\n",
        "df_ultimo_ano = (proporcao_estudo[['country',ultimo_ano]]).sort_values(by='2014', ascending = False) \n",
        "avg = round(df_ultimo_ano['2014'].mean(),2)#calcula a média dos valores de 2014 arredondando par 2 casas decimais\n",
        "if avg >= 100:\n",
        "  print (f\"A média mundial da proporção de anos de estudo em {ultimo_ano} era {avg}. O que significa que em média no mundo mulheres estudam {round(avg-100, 2)}% a mais anos que homens.\")\n",
        "else:\n",
        "  print (f\"A média mundial da proporção de anos de estudo em {ultimo_ano} era {avg}. O que significa que em média no mundo mulheres estudam {round(100-avg,2)}% a menos anos que homens.\")"
      ]
    },
    {
      "cell_type": "markdown",
      "source": [
        "2) Quais são os 10 países com maior proporção de anos de estudo entre mulheres e homens ?"
      ],
      "metadata": {
        "id": "jSCwDfqrVXm5"
      }
    },
    {
      "cell_type": "code",
      "source": [
        "df_10primeiros = df_ultimo_ano.head(10)\n",
        "#gráfico para os 10 páises com proporções mais altas\n",
        "plt.style.use('ggplot')\n",
        "plt.figure(figsize = (15,10))\n",
        "plt.bar(df_10primeiros['country'], df_10primeiros['2014'])\n",
        "plt.xticks(rotation=90)\n",
        "plt.title(\"10 páise com as maiores proporções de anos de estudo mulheres/homens (%) \")\n",
        "plt.xlabel('País')\n",
        "plt.ylabel('Proporção de anos de estudo mulheres/homens (%)')\n"
      ],
      "metadata": {
        "id": "xiTAPA04Vz2g",
        "colab": {
          "base_uri": "https://localhost:8080/",
          "height": 732
        },
        "outputId": "210fb47e-c078-4f0a-d466-314776f1ce29"
      },
      "execution_count": null,
      "outputs": [
        {
          "output_type": "execute_result",
          "data": {
            "text/plain": [
              "Text(0, 0.5, 'Proporção de anos de estudo mulheres/homens (%)')"
            ]
          },
          "metadata": {},
          "execution_count": 18
        },
        {
          "output_type": "display_data",
          "data": {
            "text/plain": [
              "<Figure size 1080x720 with 1 Axes>"
            ],
            "image/png": "[encoded data removed]"
          },
          "metadata": {}
        }
      ]
    },
    {
      "cell_type": "markdown",
      "source": [
        "3) Quais os 10 países com a menor proporção de anos de estudo entre mulheres e homens?"
      ],
      "metadata": {
        "id": "kKjAbapOYZ1J"
      }
    },
    {
      "cell_type": "code",
      "source": [
        "df_10ultimos = df_ultimo_ano.tail(10)\n",
        "#gráfico para os 10 paíse com proporções mais baixas\n",
        "plt.style.use('ggplot')\n",
        "plt.figure(figsize = (15,10))\n",
        "plt.bar(df_10ultimos['country'], df_10ultimos['2014'])\n",
        "plt.xticks(rotation=90)\n",
        "plt.title(\"10 páise com as menores proporções de anos de estudo mulheres/homens (%) \")\n",
        "plt.xlabel('País')\n",
        "plt.ylabel('Proporção de anos de estudo mulheres/homens (%)')\n"
      ],
      "metadata": {
        "id": "ineEyRoYYmDH",
        "colab": {
          "base_uri": "https://localhost:8080/",
          "height": 705
        },
        "outputId": "540f3d85-8065-4fbb-af2a-55adbfd1e3d2"
      },
      "execution_count": null,
      "outputs": [
        {
          "output_type": "execute_result",
          "data": {
            "text/plain": [
              "Text(0, 0.5, 'Proporção de anos de estudo mulheres/homens (%)')"
            ]
          },
          "metadata": {},
          "execution_count": 19
        },
        {
          "output_type": "display_data",
          "data": {
            "text/plain": [
              "<Figure size 1080x720 with 1 Axes>"
            ],
            "image/png": "[encoded data removed]"
          },
          "metadata": {}
        }
      ]
    },
    {
      "cell_type": "markdown",
      "source": [
        "4) Gráfico comparativos dos 10 paíse com proporções altas e 10 com proporções baixas"
      ],
      "metadata": {
        "id": "_omo6yYuuKcW"
      }
    },
    {
      "cell_type": "code",
      "source": [
        "df_merge = pd.merge(df_10primeiros, df_10ultimos, how='outer')\n",
        "plt.style.use('ggplot')\n",
        "plt.figure(figsize = (15,10))\n",
        "plt.bar(df_merge['country'], df_merge['2014'])\n",
        "plt.xticks(rotation=90)\n",
        "plt.title(\"Comparação das proporções de anos de estudo mulheres/homens (%) por países\")\n",
        "plt.xlabel('País')\n",
        "plt.ylabel('Proporção de anos de estudo mulheres/homens (%)')\n"
      ],
      "metadata": {
        "colab": {
          "base_uri": "https://localhost:8080/",
          "height": 732
        },
        "id": "wpY2KORyuLRF",
        "outputId": "69ed75f6-8036-4855-9d84-6ffe1851e00f"
      },
      "execution_count": null,
      "outputs": [
        {
          "output_type": "execute_result",
          "data": {
            "text/plain": [
              "Text(0, 0.5, 'Proporção de anos de estudo mulheres/homens (%)')"
            ]
          },
          "metadata": {},
          "execution_count": 20
        },
        {
          "output_type": "display_data",
          "data": {
            "text/plain": [
              "<Figure size 1080x720 with 1 Axes>"
            ],
            "image/png": "[encoded data removed]"
          },
          "metadata": {}
        }
      ]
    },
    {
      "cell_type": "markdown",
      "source": [
        "5) Qual a média mundial de diferença salarial entre homens e mulheres?"
      ],
      "metadata": {
        "id": "mfMp200dV0D_"
      }
    },
    {
      "cell_type": "code",
      "source": [
        "wage_gap"
      ],
      "metadata": {
        "id": "To0mNXgzWqLs",
        "colab": {
          "base_uri": "https://localhost:8080/",
          "height": 424
        },
        "outputId": "9fd5c4c1-d061-40e4-c553-cf5bb9bf91c1"
      },
      "execution_count": null,
      "outputs": [
        {
          "output_type": "execute_result",
          "data": {
            "text/plain": [
              "     LOCATION INDICATOR   SUBJECT MEASURE FREQUENCY  TIME      Value  \\\n",
              "0         AUS   WAGEGAP  EMPLOYEE      PC         A  1975  21.582734   \n",
              "1         AUS   WAGEGAP  EMPLOYEE      PC         A  1976  20.754717   \n",
              "2         AUS   WAGEGAP  EMPLOYEE      PC         A  1977  18.390805   \n",
              "3         AUS   WAGEGAP  EMPLOYEE      PC         A  1978  19.791667   \n",
              "4         AUS   WAGEGAP  EMPLOYEE      PC         A  1979  20.000000   \n",
              "...       ...       ...       ...     ...       ...   ...        ...   \n",
              "1239      BRA   WAGEGAP  EMPLOYEE      PC         A  2017  13.333333   \n",
              "1240      BRA   WAGEGAP  EMPLOYEE      PC         A  2018  10.666667   \n",
              "1241      BRA   WAGEGAP  EMPLOYEE      PC         A  2019   6.666667   \n",
              "1242      BRA   WAGEGAP  EMPLOYEE      PC         A  2020   6.250000   \n",
              "1243      BRA   WAGEGAP  EMPLOYEE      PC         A  2021   9.090909   \n",
              "\n",
              "     Flag Codes  \n",
              "0           NaN  \n",
              "1           NaN  \n",
              "2           NaN  \n",
              "3           NaN  \n",
              "4           NaN  \n",
              "...         ...  \n",
              "1239        NaN  \n",
              "1240        NaN  \n",
              "1241        NaN  \n",
              "1242        NaN  \n",
              "1243        NaN  \n",
              "\n",
              "[1244 rows x 8 columns]"
            ],
            "text/html": [
              "\n",
              "  <div id=\"df-48cfcbda-3757-4734-acd1-e180f6a71988\">\n",
              "    <div class=\"colab-df-container\">\n",
              "      <div>\n",
              "<style scoped>\n",
              "    .dataframe tbody tr th:only-of-type {\n",
              "        vertical-align: middle;\n",
              "    }\n",
              "\n",
              "    .dataframe tbody tr th {\n",
              "        vertical-align: top;\n",
              "    }\n",
              "\n",
              "    .dataframe thead th {\n",
              "        text-align: right;\n",
              "    }\n",
              "</style>\n",
              "<table border=\"1\" class=\"dataframe\">\n",
              "  <thead>\n",
              "    <tr style=\"text-align: right;\">\n",
              "      <th></th>\n",
              "      <th>LOCATION</th>\n",
              "      <th>INDICATOR</th>\n",
              "      <th>SUBJECT</th>\n",
              "      <th>MEASURE</th>\n",
              "      <th>FREQUENCY</th>\n",
              "      <th>TIME</th>\n",
              "      <th>Value</th>\n",
              "      <th>Flag Codes</th>\n",
              "    </tr>\n",
              "  </thead>\n",
              "  <tbody>\n",
              "    <tr>\n",
              "      <th>0</th>\n",
              "      <td>AUS</td>\n",
              "      <td>WAGEGAP</td>\n",
              "      <td>EMPLOYEE</td>\n",
              "      <td>PC</td>\n",
              "      <td>A</td>\n",
              "      <td>1975</td>\n",
              "      <td>21.582734</td>\n",
              "      <td>NaN</td>\n",
              "    </tr>\n",
              "    <tr>\n",
              "      <th>1</th>\n",
              "      <td>AUS</td>\n",
              "      <td>WAGEGAP</td>\n",
              "      <td>EMPLOYEE</td>\n",
              "      <td>PC</td>\n",
              "      <td>A</td>\n",
              "      <td>1976</td>\n",
              "      <td>20.754717</td>\n",
              "      <td>NaN</td>\n",
              "    </tr>\n",
              "    <tr>\n",
              "      <th>2</th>\n",
              "      <td>AUS</td>\n",
              "      <td>WAGEGAP</td>\n",
              "      <td>EMPLOYEE</td>\n",
              "      <td>PC</td>\n",
              "      <td>A</td>\n",
              "      <td>1977</td>\n",
              "      <td>18.390805</td>\n",
              "      <td>NaN</td>\n",
              "    </tr>\n",
              "    <tr>\n",
              "      <th>3</th>\n",
              "      <td>AUS</td>\n",
              "      <td>WAGEGAP</td>\n",
              "      <td>EMPLOYEE</td>\n",
              "      <td>PC</td>\n",
              "      <td>A</td>\n",
              "      <td>1978</td>\n",
              "      <td>19.791667</td>\n",
              "      <td>NaN</td>\n",
              "    </tr>\n",
              "    <tr>\n",
              "      <th>4</th>\n",
              "      <td>AUS</td>\n",
              "      <td>WAGEGAP</td>\n",
              "      <td>EMPLOYEE</td>\n",
              "      <td>PC</td>\n",
              "      <td>A</td>\n",
              "      <td>1979</td>\n",
              "      <td>20.000000</td>\n",
              "      <td>NaN</td>\n",
              "    </tr>\n",
              "    <tr>\n",
              "      <th>...</th>\n",
              "      <td>...</td>\n",
              "      <td>...</td>\n",
              "      <td>...</td>\n",
              "      <td>...</td>\n",
              "      <td>...</td>\n",
              "      <td>...</td>\n",
              "      <td>...</td>\n",
              "      <td>...</td>\n",
              "    </tr>\n",
              "    <tr>\n",
              "      <th>1239</th>\n",
              "      <td>BRA</td>\n",
              "      <td>WAGEGAP</td>\n",
              "      <td>EMPLOYEE</td>\n",
              "      <td>PC</td>\n",
              "      <td>A</td>\n",
              "      <td>2017</td>\n",
              "      <td>13.333333</td>\n",
              "      <td>NaN</td>\n",
              "    </tr>\n",
              "    <tr>\n",
              "      <th>1240</th>\n",
              "      <td>BRA</td>\n",
              "      <td>WAGEGAP</td>\n",
              "      <td>EMPLOYEE</td>\n",
              "      <td>PC</td>\n",
              "      <td>A</td>\n",
              "      <td>2018</td>\n",
              "      <td>10.666667</td>\n",
              "      <td>NaN</td>\n",
              "    </tr>\n",
              "    <tr>\n",
              "      <th>1241</th>\n",
              "      <td>BRA</td>\n",
              "      <td>WAGEGAP</td>\n",
              "      <td>EMPLOYEE</td>\n",
              "      <td>PC</td>\n",
              "      <td>A</td>\n",
              "      <td>2019</td>\n",
              "      <td>6.666667</td>\n",
              "      <td>NaN</td>\n",
              "    </tr>\n",
              "    <tr>\n",
              "      <th>1242</th>\n",
              "      <td>BRA</td>\n",
              "      <td>WAGEGAP</td>\n",
              "      <td>EMPLOYEE</td>\n",
              "      <td>PC</td>\n",
              "      <td>A</td>\n",
              "      <td>2020</td>\n",
              "      <td>6.250000</td>\n",
              "      <td>NaN</td>\n",
              "    </tr>\n",
              "    <tr>\n",
              "      <th>1243</th>\n",
              "      <td>BRA</td>\n",
              "      <td>WAGEGAP</td>\n",
              "      <td>EMPLOYEE</td>\n",
              "      <td>PC</td>\n",
              "      <td>A</td>\n",
              "      <td>2021</td>\n",
              "      <td>9.090909</td>\n",
              "      <td>NaN</td>\n",
              "    </tr>\n",
              "  </tbody>\n",
              "</table>\n",
              "<p>1244 rows × 8 columns</p>\n",
              "</div>\n",
              "      <button class=\"colab-df-convert\" onclick=\"convertToInteractive('df-48cfcbda-3757-4734-acd1-e180f6a71988')\"\n",
              "              title=\"Convert this dataframe to an interactive table.\"\n",
              "              style=\"display:none;\">\n",
              "        \n",
              "  <svg xmlns=\"http://www.w3.org/2000/svg\" height=\"24px\"viewBox=\"0 0 24 24\"\n",
              "       width=\"24px\">\n",
              "    <path d=\"M0 0h24v24H0V0z\" fill=\"none\"/>\n",
              "    <path d=\"M18.56 5.44l.94 2.06.94-2.06 2.06-.94-2.06-.94-.94-2.06-.94 2.06-2.06.94zm-11 1L8.5 8.5l.94-2.06 2.06-.94-2.06-.94L8.5 2.5l-.94 2.06-2.06.94zm10 10l.94 2.06.94-2.06 2.06-.94-2.06-.94-.94-2.06-.94 2.06-2.06.94z\"/><path d=\"M17.41 7.96l-1.37-1.37c-.4-.4-.92-.59-1.43-.59-.52 0-1.04.2-1.43.59L10.3 9.45l-7.72 7.72c-.78.78-.78 2.05 0 2.83L4 21.41c.39.39.9.59 1.41.59.51 0 1.02-.2 1.41-.59l7.78-7.78 2.81-2.81c.8-.78.8-2.07 0-2.86zM5.41 20L4 18.59l7.72-7.72 1.47 1.35L5.41 20z\"/>\n",
              "  </svg>\n",
              "      </button>\n",
              "      \n",
              "  <style>\n",
              "    .colab-df-container {\n",
              "      display:flex;\n",
              "      flex-wrap:wrap;\n",
              "      gap: 12px;\n",
              "    }\n",
              "\n",
              "    .colab-df-convert {\n",
              "      background-color: #E8F0FE;\n",
              "      border: none;\n",
              "      border-radius: 50%;\n",
              "      cursor: pointer;\n",
              "      display: none;\n",
              "      fill: #1967D2;\n",
              "      height: 32px;\n",
              "      padding: 0 0 0 0;\n",
              "      width: 32px;\n",
              "    }\n",
              "\n",
              "    .colab-df-convert:hover {\n",
              "      background-color: #E2EBFA;\n",
              "      box-shadow: 0px 1px 2px rgba(60, 64, 67, 0.3), 0px 1px 3px 1px rgba(60, 64, 67, 0.15);\n",
              "      fill: #174EA6;\n",
              "    }\n",
              "\n",
              "    [theme=dark] .colab-df-convert {\n",
              "      background-color: #3B4455;\n",
              "      fill: #D2E3FC;\n",
              "    }\n",
              "\n",
              "    [theme=dark] .colab-df-convert:hover {\n",
              "      background-color: #434B5C;\n",
              "      box-shadow: 0px 1px 3px 1px rgba(0, 0, 0, 0.15);\n",
              "      filter: drop-shadow(0px 1px 2px rgba(0, 0, 0, 0.3));\n",
              "      fill: #FFFFFF;\n",
              "    }\n",
              "  </style>\n",
              "\n",
              "      <script>\n",
              "        const buttonEl =\n",
              "          document.querySelector('#df-48cfcbda-3757-4734-acd1-e180f6a71988 button.colab-df-convert');\n",
              "        buttonEl.style.display =\n",
              "          google.colab.kernel.accessAllowed ? 'block' : 'none';\n",
              "\n",
              "        async function convertToInteractive(key) {\n",
              "          const element = document.querySelector('#df-48cfcbda-3757-4734-acd1-e180f6a71988');\n",
              "          const dataTable =\n",
              "            await google.colab.kernel.invokeFunction('convertToInteractive',\n",
              "                                                     [key], {});\n",
              "          if (!dataTable) return;\n",
              "\n",
              "          const docLinkHtml = 'Like what you see? Visit the ' +\n",
              "            '<a target=\"_blank\" href=https://colab.research.google.com/notebooks/data_table.ipynb>data table notebook</a>'\n",
              "            + ' to learn more about interactive tables.';\n",
              "          element.innerHTML = '';\n",
              "          dataTable['output_type'] = 'display_data';\n",
              "          await google.colab.output.renderOutput(dataTable, element);\n",
              "          const docLink = document.createElement('div');\n",
              "          docLink.innerHTML = docLinkHtml;\n",
              "          element.appendChild(docLink);\n",
              "        }\n",
              "      </script>\n",
              "    </div>\n",
              "  </div>\n",
              "  "
            ]
          },
          "metadata": {},
          "execution_count": 31
        }
      ]
    },
    {
      "cell_type": "code",
      "source": [
        "wage_gap_drop = wage_gap.drop(columns=['INDICATOR', 'MEASURE', 'FREQUENCY', 'Flag Codes'])\n",
        "wage_gap_comp = wage_gap_drop[wage_gap_drop.TIME.eq(2014)]\n",
        "wage_gap_comp = wage_gap_comp[wage_gap_comp.SUBJECT.eq('EMPLOYEE')]\n",
        "avg_gap = round(wage_gap_comp['Value'].mean(),2)\n",
        "print(f\"A média de diferença salarial no mundo em 2014 era de {avg_gap}%, o que significa que neste ano em média mulheres ganhavam {avg_gap}% a menos que homens\")"
      ],
      "metadata": {
        "colab": {
          "base_uri": "https://localhost:8080/"
        },
        "id": "cYNPBXZekhbA",
        "outputId": "dbde8dff-4a22-469b-b760-3a4cbbe10b33"
      },
      "execution_count": null,
      "outputs": [
        {
          "output_type": "stream",
          "name": "stdout",
          "text": [
            "A média de diferença salarial no mundo em 2014 era de 12.94%, o que significa que neste ano em média mulheres ganhavam 12.94% a menos que homens\n"
          ]
        }
      ]
    },
    {
      "cell_type": "markdown",
      "source": [
        "6) No Brasil, qual a proporção de anos de estudos emtre mulheres e homens e qual a diferença salarial ?"
      ],
      "metadata": {
        "id": "NFx9If5eWqlz"
      }
    },
    {
      "cell_type": "code",
      "source": [
        "for i in range(len(wage_gap_comp['LOCATION'])):\n",
        "  if wage_gap_comp.LOCATION.iloc[i] == \"BRA\":\n",
        "    gap_BRA = round(wage_gap_comp.iloc[i]['Value'],2)\n",
        "    print(gap_BRA)\n",
        "\n",
        "for i in range(len(df_ultimo_ano['country'])):\n",
        "  if df_ultimo_ano.country.iloc[i] == 'Brazil':\n",
        "    anos_estudo = round(df_ultimo_ano.iloc[i]['2014'], 2)\n",
        "\n",
        "if gap_BRA > 0  and anos_estudo > 100:\n",
        "  print(f\"No Brasil em {ultimo_ano} as mulheres tinham em média {anos_estudo - 100}% anos de estudo a mais que homens e ganhavam {gap_BRA}% a menos que os homens\")\n",
        "\n",
        "elif  gap_BRA < 0  and anos_estudo > 100:\n",
        "  print(f\"No Brasil em {ultimo_ano} as mulheres tinham em média {anos_estudo - 100}% anos de estudo a mais que homens e ganhavam {gap_BRA}% a mais que os homens\") \n",
        "\n",
        "elif  gap_BRA > 0  and anos_estudo < 100:\n",
        "  print(f\"No Brasil em {ultimo_ano} as mulheres tinham em média {anos_estudo - 100}% anos de estudo a menos que homens e ganhavam {gap_BRA}% a menos que os homens\")  \n",
        "\n",
        "else:\n",
        "  print(f\"No Brasil em {ultimo_ano} as mulheres tinham em média {anos_estudo - 100}% anos de estudo a menos que homens e ganhavam {gap_BRA}% a mais que os homens\") \n"
      ],
      "metadata": {
        "id": "AvhyERj4Y8j8",
        "colab": {
          "base_uri": "https://localhost:8080/"
        },
        "outputId": "697b66cd-9be5-41ca-f8cd-387e472a0192"
      },
      "execution_count": null,
      "outputs": [
        {
          "output_type": "stream",
          "name": "stdout",
          "text": [
            "16.67\n",
            "No Brasil em 2014 as mulheres tinham em média 13.0% anos de estudo a mais que homens e ganhavam 16.67% a menos que os homens\n"
          ]
        }
      ]
    },
    {
      "cell_type": "markdown",
      "source": [
        "# Conclusão\n",
        "\n",
        "Com estas análise é possível perceber que em 2014 (último ano em que os dados estavam disponíveis) mulheres estudavam em média 8.04% anos a menos do que homens, é importante resaltar que a média neste caso foi feita considerando apenas a quantidade de países e não a quantidade de mulheres em cada país o que pode ter induzido a média a um valor inferior a real média mundial.  \n",
        "    \n",
        "Na diferença salarial temos uma média mundial de 12,94%, indicando que em 2014 mulheres recebiam em média 12,94% a menos que homens.  \n",
        "  \n",
        "Olhando especificamente para o Brasil, em 2014 mesmo estudando 13% anos a mais do que homens, mulheres recebiam quase 17% a menos que os homens, ou seja, mesmo com mais anos de estudo mulheres ainda recebiam bem menos que homens."
      ],
      "metadata": {
        "id": "oVCx-cC6Y87b"
      }
    }
  ]
}