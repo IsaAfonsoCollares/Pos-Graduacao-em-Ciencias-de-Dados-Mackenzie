{
  "nbformat": 4,
  "nbformat_minor": 0,
  "metadata": {
    "colab": {
      "provenance": [],
      "collapsed_sections": [],
      "authorship_tag": "ABX9TyOm8jrS+LL7H9L9KonNR/ca",
      "include_colab_link": true
    },
    "kernelspec": {
      "name": "python3",
      "display_name": "Python 3"
    },
    "language_info": {
      "name": "python"
    }
  },
  "cells": [
    {
      "cell_type": "markdown",
      "metadata": {
        "id": "view-in-github",
        "colab_type": "text"
      },
      "source": [
        "<a href=\"https://colab.research.google.com/github/IsaAfonsoCollares/Pos-Graduacao-em-Ciencias-de-Dados-Mackenzie/blob/main/Lei_de_Zipf_.ipynb\" target=\"_parent\"><img src=\"https://colab.research.google.com/assets/colab-badge.svg\" alt=\"Open In Colab\"/></a>"
      ]
    },
    {
      "cell_type": "markdown",
      "source": [
        "Tarefa \n",
        "\n",
        "Implemente um programa em Python (Python notebook) que constrói um dicionário de termos de um documento (mínimo 1000 palavras) com a frequência de cada termo permitindo confirmar a lei de Zipf para o documento selecionado.  "
      ],
      "metadata": {
        "id": "eTaeogB-NEd-"
      }
    },
    {
      "cell_type": "markdown",
      "source": [
        "O texto escolhido para ser analisado foi o artigo \"10 Livros Incríveis Para Iniciar a Carreira de Analista de Dados\" da Data Science Academy, dísponivel em https://blog.dsacademy.com.br/10-livros-incriveis-para-iniciar-a-carreira-de-analista-de_dados/, acesso em 02/11/2022 ás 22hs.\n",
        "\n",
        "Escolhi este texto por se tratar de um artigo sobre livros interessantes para a área de análise de dados.\n",
        "\n",
        "O texto foi copiado do site e transformado num arquivo txt,o qual será utilizado neste exercício."
      ],
      "metadata": {
        "id": "DGuui-t1NPg0"
      }
    },
    {
      "cell_type": "markdown",
      "source": [
        "# Importando pacotes"
      ],
      "metadata": {
        "id": "TBpyvpvXjpuq"
      }
    },
    {
      "cell_type": "code",
      "source": [
        "# pacote para análise e manipulação de dados\n",
        "import pandas as pd  \n",
        "\n",
        "# pacotes para visualização de dados estatisticos \n",
        "import seaborn as sns\n",
        "import matplotlib as mpl\n",
        "import matplotlib.pyplot as plt"
      ],
      "metadata": {
        "id": "FcfPrD0kjwPu"
      },
      "execution_count": null,
      "outputs": []
    },
    {
      "cell_type": "markdown",
      "source": [
        "# Aquisição e limpeza dos dados"
      ],
      "metadata": {
        "id": "_ru43Tr7Zy3C"
      }
    },
    {
      "cell_type": "code",
      "execution_count": null,
      "metadata": {
        "id": "ffvI5eIhMyW6"
      },
      "outputs": [],
      "source": [
        "texto = []    #cria lista vazia\n",
        "\n",
        "artigo = open('artigo_analise_de_dados.txt','r')    # abri arquivo para leitura\n",
        "\n",
        "for line in artigo:     # percorre todas as linhas do texto\n",
        "    texto.append(line)  # adicona cada linha como um novo elemento na lista\n",
        "\n",
        "# o código abaixo limpa o texto, retirando caracteres que possam alterar\n",
        "# a contagem de palavras e unificando as letras como minusculas, para evitar que\n",
        "# a mesma palavra seja considerada diferente por utilizar letra maiscula em um \n",
        "# caso e minuscula no outro.\n",
        "\n",
        "for i in range(len(texto)):\n",
        "    texto[i] = texto[i].lower() \n",
        "    texto[i] = texto[i].replace('\\n','')\n",
        "    texto[i] = texto[i].replace('.','')\n",
        "    texto[i] = texto[i].replace(',','')\n",
        "    texto[i] = texto[i].replace(';','')\n",
        "    texto[i] = texto[i].replace('(','')\n",
        "    texto[i] = texto[i].replace(')','')\n",
        "    texto[i] = texto[i].replace('—','')\n",
        "    texto[i] = texto[i].replace('\\'','') "
      ]
    },
    {
      "cell_type": "markdown",
      "source": [
        "# Criação do dicionário"
      ],
      "metadata": {
        "id": "VxjzHDIrS-zH"
      }
    },
    {
      "cell_type": "code",
      "source": [
        "texto_dict = {}     # cria um dicionário vazio\n",
        "\n",
        "for line in texto :     # percorre todos os elementos da lista texto\n",
        "  palavras = line.split()    # tranforma a linha em uma lista de palavras, por padrão usa o espaço como separador\n",
        "\n",
        "  for palavra in palavras:  # percorre todos os elementos da lista palavras \n",
        "    if palavra in texto_dict.keys():   # testa se a palavra já está presente no dicionário\n",
        "      texto_dict[palavra] = texto_dict[palavra] + 1  # soma 1 ao valor relacionado á esta palavra\n",
        "      \n",
        "    else:     # caso a condição IF acima não ocorra\n",
        "      texto_dict[palavra] = 1    # cria a chave para esta palavra e determina o valor da mesma como 1"
      ],
      "metadata": {
        "id": "TRuzUJd_aJQ5"
      },
      "execution_count": null,
      "outputs": []
    },
    {
      "cell_type": "markdown",
      "source": [
        "# Criação do data frame "
      ],
      "metadata": {
        "id": "gyaPtO40Z-XZ"
      }
    },
    {
      "cell_type": "code",
      "source": [
        "df = pd.DataFrame(texto_dict.items(), columns=[\"palavras\" , \"contagem\"])    # cria um data frame que contenha os items do dicionário e determina as colunas\n",
        "df = df.sort_values(\"contagem\", ascending = False)     # substitui o data frame por um onde a coluna \"Contagem\" é ordenada de forma decrescente \n",
        "df = df[df.contagem > 4]      # substitui o data frame para considerar apenas valores acima de 4 na coluna \"Contagem\""
      ],
      "metadata": {
        "id": "alDHmjHckBrh"
      },
      "execution_count": null,
      "outputs": []
    },
    {
      "cell_type": "markdown",
      "source": [
        "# Visualização dos dados"
      ],
      "metadata": {
        "id": "O_V7XBs0mwCt"
      }
    },
    {
      "cell_type": "code",
      "source": [
        "plt.figure(figsize=(15,8))\n",
        "mpl.style.use(['seaborn'])\n",
        "sns.barplot(x=df.palavras,y=df.contagem)\n",
        "plt.xticks(rotation=90) \n",
        "\n",
        "plt.show()"
      ],
      "metadata": {
        "colab": {
          "base_uri": "https://localhost:8080/",
          "height": 532
        },
        "id": "_6m1lcFXmzp4",
        "outputId": "1847fd03-824c-4a31-d30c-78ebb32298e5"
      },
      "execution_count": null,
      "outputs": [
        {
          "output_type": "display_data",
          "data": {
            "text/plain": [
              "<Figure size 1080x576 with 1 Axes>"
            ],
            "image/png": "[encoded data removed]"
          },
          "metadata": {}
        }
      ]
    }
  ]
}
